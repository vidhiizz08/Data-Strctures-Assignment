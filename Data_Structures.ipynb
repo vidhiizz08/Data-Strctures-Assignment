{
  "nbformat": 4,
  "nbformat_minor": 0,
  "metadata": {
    "colab": {
      "provenance": []
    },
    "kernelspec": {
      "name": "python3",
      "display_name": "Python 3"
    },
    "language_info": {
      "name": "python"
    }
  },
  "cells": [
    {
      "cell_type": "markdown",
      "source": [
        "###**Data Types and Structures Questions - Theory**\n",
        "\n",
        "\n",
        " 1. **What are data structures, and why are they important?**  \n",
        " - Data structures in Python are specialized formats or containers used to store and organize data efficiently.\n",
        " - They provide various ways to store, access, and manipulate data according to specific needs.\n",
        "\n",
        "  Importance:  \n",
        "- Optimize algorithms for better performance.  \n",
        "- Enable efficient data storage and retrieval.  \n",
        "- Facilitate problem-solving in fields like AI, databases, and web development.\n",
        "\n",
        "---\n",
        "\n",
        " 2. **Explain the difference between mutable and immutable data types with examples.**  \n",
        "- **Mutable**: Can be changed after creation (e.g., lists, dictionaries).  \n",
        "  Example:  \n",
        "  ```python\n",
        "  my_list = [1, 2, 3]\n",
        "  my_list[0] = 10  # Changes the first element to 10\n",
        "  ```  \n",
        "- **Immutable**: Cannot be changed after creation (e.g., strings, tuples).  \n",
        "  Example:  \n",
        "  ```python\n",
        "  my_tuple = (1, 2, 3)\n",
        "  # my_tuple[0] = 10  # This would raise an error\n",
        "  ```\n",
        "---\n",
        "\n",
        "3.  **What are the main differences between lists and tuples in Python?**  \n",
        " - **Mutability**: Lists are mutable, tuples are immutable.  \n",
        " - **Performance**: Tuples are faster due to immutability.  \n",
        "\n",
        "\n",
        "---\n",
        "\n",
        " 4. **Describe how dictionaries store data.**  \n",
        "Dictionaries store data in **key-value pairs** using a **hash table**. The key is hashed to determine the index where the value is stored, allowing for fast lookups.\n",
        "---\n",
        "\n",
        "5.  **Why might you use a set instead of a list in Python?**  \n",
        "- Sets are unordered collections of unique elements. They are useful when you need to work with distinct items and perform set operations like union, intersection, and difference.\n",
        "\n",
        "---\n",
        "\n",
        "6. **What is a string in Python, and how is it different from a list?**  \n",
        "A **string** is a sequence of characters, while a list is a sequence of any data type.  \n",
        "- Strings are immutable; lists are mutable.  \n",
        "- Strings are optimized for text operations.\n",
        "\n",
        "---\n",
        "\n",
        "7.  **How do tuples ensure data integrity in Python?**  \n",
        "Tuples are immutable, ensuring that data cannot be altered accidentally or maliciously after creation.\n",
        "\n",
        "---\n",
        "\n",
        "8.  **What is a hash table, and how does it relate to dictionaries in Python?**  \n",
        "A **hash table** is a data structure that maps keys to values using a hashing function.  \n",
        "- Python dictionaries are implemented as hash tables, providing O(1) average time complexity for lookups.\n",
        "\n",
        "---\n",
        "\n",
        "9. **Can lists contain different data types in Python?**  \n",
        "Yes, lists can hold elements of different data types.  \n",
        "Example:  \n",
        "```python\n",
        "my_list = [1, \"hello\", 3.14, [4, 5]]\n",
        "```\n",
        "\n",
        "---\n",
        "\n",
        "10. **Explain why strings are immutable in Python.**  \n",
        "Strings are immutable to:  \n",
        "- Ensure thread safety.  \n",
        "- Optimize performance via internal caching.  \n",
        "- Enable their use as dictionary keys.\n",
        "---\n",
        "\n",
        "\n",
        "11. **What advantages do dictionaries offer over lists for certain tasks?**  \n",
        "- Faster lookups using keys (O(1)).  \n",
        "- More intuitive data organization with key-value pairs.  \n",
        "\n",
        "---\n",
        "\n",
        "12. **Describe a scenario where using a tuple would be preferable over a list.**  \n",
        "When storing data that should not change, such as coordinates `(x, y)` or database records.\n",
        "\n",
        "---\n",
        "\n",
        "13. **How do sets handle duplicate values in Python?**  \n",
        "Sets automatically discard duplicate values.  \n",
        "Example:  \n",
        "```python\n",
        "my_set = {1, 2, 2, 3}  # Results in {1, 2, 3}\n",
        "```\n",
        "---\n",
        "\n",
        "\n",
        "14. **How does the `in` keyword work differently for lists and dictionaries?**  \n",
        "- In lists, `in` checks for values.  \n",
        "- In dictionaries, `in` checks for keys.  \n",
        "\n",
        "---\n",
        "\n",
        "15. **Can you modify the elements of a tuple? Explain why or why not.**  \n",
        "No, tuples are immutable. Once created, their elements cannot be changed.  \n",
        "\n",
        "---\n",
        "\n",
        "16. **What is a nested dictionary, and give an example of its use case.**  \n",
        "A **nested dictionary** is a dictionary containing another dictionary.  \n",
        "Example:  \n",
        "```python\n",
        "student = {\"name\": \"Alice\", \"grades\": {\"math\": 90, \"science\": 85}}\n",
        "```  \n",
        "**Use Case**: Organizing hierarchical data, such as user profiles or database records.\n",
        "\n",
        "---\n",
        "\n",
        "17. **Describe the time complexity of accessing elements in a dictionary.**  \n",
        "Accessing elements in a dictionary has an average time complexity of **O(1)** due to hash table implementation.\n",
        "\n",
        "\n",
        "---\n",
        " 18. **In what situations are lists preferred over dictionaries?**  \n",
        "- When data is ordered or requires indexing.  \n",
        "- When the dataset has no unique keys.  \n",
        "\n",
        "\n",
        "---\n",
        " 19. **Why are dictionaries considered unordered, and how does that affect data retrieval?**  \n",
        "Dictionaries are unordered because they use hash tables for storage.  \n",
        "**Effect**: Keys are retrieved without any guaranteed order of insertion (though from Python 3.7+, insertion order is preserved).\n",
        "\n",
        "\n",
        "---\n",
        " 20. **Explain the difference between a list and a dictionary in terms of data retrieval.**  \n",
        "- **Lists**: Access elements by index (position).  \n",
        "- **Dictionaries**: Access elements by key, allowing for more descriptive and direct lookups.\n",
        "\n",
        "---\n",
        "---"
      ],
      "metadata": {
        "id": "MAG2y83uPOw0"
      }
    },
    {
      "cell_type": "markdown",
      "source": [
        "###**Practical Questions**"
      ],
      "metadata": {
        "id": "VmmnOl1lU6TW"
      }
    },
    {
      "cell_type": "code",
      "source": [
        "#1. Write a code to create a string with your name and print itE\n",
        "name = \"Vidhi\"\n",
        "print(name)\n"
      ],
      "metadata": {
        "colab": {
          "base_uri": "https://localhost:8080/"
        },
        "id": "1FTmj3xeVFof",
        "outputId": "975332b8-2a44-4a0a-efbe-0c39ae962609"
      },
      "execution_count": 1,
      "outputs": [
        {
          "output_type": "stream",
          "name": "stdout",
          "text": [
            "Vidhi\n"
          ]
        }
      ]
    },
    {
      "cell_type": "code",
      "source": [
        "#2. Write a code to find the length of the string \"Hello World\"E\n",
        "string = \"Hello World\"\n",
        "print(len(string))\n"
      ],
      "metadata": {
        "colab": {
          "base_uri": "https://localhost:8080/"
        },
        "id": "x9Qgcse8VKJJ",
        "outputId": "580336f3-3efc-4470-9ae1-35ec8c31f2b2"
      },
      "execution_count": 2,
      "outputs": [
        {
          "output_type": "stream",
          "name": "stdout",
          "text": [
            "11\n"
          ]
        }
      ]
    },
    {
      "cell_type": "code",
      "source": [
        "#3. Write a code to slice the first 3 characters from the string \"Python Programming\".\n",
        "string = \"Python Programming\"\n",
        "print(string[:3])\n"
      ],
      "metadata": {
        "colab": {
          "base_uri": "https://localhost:8080/"
        },
        "id": "UZuA_TifVLlH",
        "outputId": "2e37fef4-acf8-4f22-d871-343d427380cc"
      },
      "execution_count": 3,
      "outputs": [
        {
          "output_type": "stream",
          "name": "stdout",
          "text": [
            "Pyt\n"
          ]
        }
      ]
    },
    {
      "cell_type": "code",
      "source": [
        "#4. Write a code to convert the string \"hello\" to uppercaseE\n",
        "string = \"hello\"\n",
        "print(string.upper())\n"
      ],
      "metadata": {
        "colab": {
          "base_uri": "https://localhost:8080/"
        },
        "id": "vwx3SvyJVOA7",
        "outputId": "7805cabf-c187-481a-8d40-059a8651494f"
      },
      "execution_count": 4,
      "outputs": [
        {
          "output_type": "stream",
          "name": "stdout",
          "text": [
            "HELLO\n"
          ]
        }
      ]
    },
    {
      "cell_type": "code",
      "source": [
        "#5. Write a code to replace the word \"apple\" with \"orange\" in the string \"I like apple\"E\n",
        "string = \"I like apple\"\n",
        "print(string.replace(\"apple\", \"orange\"))\n"
      ],
      "metadata": {
        "colab": {
          "base_uri": "https://localhost:8080/"
        },
        "id": "kuVYKMakVe1u",
        "outputId": "9360b5b6-565a-40ad-ddc3-9cedb4eb88d0"
      },
      "execution_count": 5,
      "outputs": [
        {
          "output_type": "stream",
          "name": "stdout",
          "text": [
            "I like orange\n"
          ]
        }
      ]
    },
    {
      "cell_type": "code",
      "source": [
        "#6. Write a code to create a list with numbers 1 to 5 and print itE\n",
        "numbers = [1, 2, 3, 4, 5]\n",
        "print(numbers)\n"
      ],
      "metadata": {
        "colab": {
          "base_uri": "https://localhost:8080/"
        },
        "id": "uRDrwZGKViLm",
        "outputId": "7a263564-3a06-4a91-e7d5-fb0787fb9000"
      },
      "execution_count": 6,
      "outputs": [
        {
          "output_type": "stream",
          "name": "stdout",
          "text": [
            "[1, 2, 3, 4, 5]\n"
          ]
        }
      ]
    },
    {
      "cell_type": "code",
      "source": [
        "#7. Write a code to append the number 10 to the list [1, 2, 3, 4]\n",
        "numbers = [1, 2, 3, 4]\n",
        "numbers.append(10)\n",
        "print(numbers)\n"
      ],
      "metadata": {
        "colab": {
          "base_uri": "https://localhost:8080/"
        },
        "id": "_8671S-iViaB",
        "outputId": "45df8ced-6d5d-40c2-a3ad-73d32dd8ecfd"
      },
      "execution_count": 7,
      "outputs": [
        {
          "output_type": "stream",
          "name": "stdout",
          "text": [
            "[1, 2, 3, 4, 10]\n"
          ]
        }
      ]
    },
    {
      "cell_type": "code",
      "source": [
        "#8. Write a code to remove the number 3 from the list [1, 2, 3, 4, 5].\n",
        "numbers = [1, 2, 3, 4, 5]\n",
        "numbers.remove(3)\n",
        "print(numbers)\n"
      ],
      "metadata": {
        "colab": {
          "base_uri": "https://localhost:8080/"
        },
        "id": "AO4e1sFQViur",
        "outputId": "710e3a50-b1c9-4475-902f-245e9f48c69f"
      },
      "execution_count": 8,
      "outputs": [
        {
          "output_type": "stream",
          "name": "stdout",
          "text": [
            "[1, 2, 4, 5]\n"
          ]
        }
      ]
    },
    {
      "cell_type": "code",
      "source": [
        "#9.Write a code to access the second element in the list ['a', 'b', 'c', 'd']\n",
        "letters = ['a', 'b', 'c', 'd']\n",
        "print(letters[1])\n"
      ],
      "metadata": {
        "colab": {
          "base_uri": "https://localhost:8080/"
        },
        "id": "iiIOXRenVjEp",
        "outputId": "cdc2038e-82d3-4b89-87b2-5ea229f571de"
      },
      "execution_count": 9,
      "outputs": [
        {
          "output_type": "stream",
          "name": "stdout",
          "text": [
            "b\n"
          ]
        }
      ]
    },
    {
      "cell_type": "code",
      "source": [
        "#10. Write a code to access the second element in the list ['a', 'b', 'c', 'd']\n",
        "numbers = [10, 20, 30, 40, 50]\n",
        "numbers.reverse()\n",
        "print(numbers)\n"
      ],
      "metadata": {
        "colab": {
          "base_uri": "https://localhost:8080/"
        },
        "id": "CBJ46KQiVkuy",
        "outputId": "9c77cc9e-6af4-4c43-c8ec-754ae23a0f65"
      },
      "execution_count": 10,
      "outputs": [
        {
          "output_type": "stream",
          "name": "stdout",
          "text": [
            "[50, 40, 30, 20, 10]\n"
          ]
        }
      ]
    },
    {
      "cell_type": "code",
      "source": [
        "#11. Write a code to create a tuple with the elements 10, 20, 30 and print it.\n",
        "my_tuple = (10, 20, 30)\n",
        "print(my_tuple)\n"
      ],
      "metadata": {
        "colab": {
          "base_uri": "https://localhost:8080/"
        },
        "id": "T-4rhFq3VkoO",
        "outputId": "b0364abf-8473-4ed8-d590-e35d920465df"
      },
      "execution_count": 11,
      "outputs": [
        {
          "output_type": "stream",
          "name": "stdout",
          "text": [
            "(10, 20, 30)\n"
          ]
        }
      ]
    },
    {
      "cell_type": "code",
      "source": [
        "#12. Write a code to access the first element of the tuple ('apple', 'banana', 'cherry').\n",
        "fruits = ('apple', 'banana', 'cherry')\n",
        "print(fruits[0])\n"
      ],
      "metadata": {
        "colab": {
          "base_uri": "https://localhost:8080/"
        },
        "id": "-Vz5uf5MVklo",
        "outputId": "1218c60f-a86e-4604-aae3-187ff678639c"
      },
      "execution_count": 12,
      "outputs": [
        {
          "output_type": "stream",
          "name": "stdout",
          "text": [
            "apple\n"
          ]
        }
      ]
    },
    {
      "cell_type": "code",
      "source": [
        "#13. Write a code to count how many times the number 2 appears in the tuple (1, 2, 3, 2, 4, 2).\n",
        "my_tuple = (1, 2, 3, 2, 4, 2)\n",
        "print(my_tuple.count(2))\n"
      ],
      "metadata": {
        "colab": {
          "base_uri": "https://localhost:8080/"
        },
        "id": "AgCxl3YZVkhT",
        "outputId": "14ea34e6-de5a-42ae-b8cb-1599f60a9931"
      },
      "execution_count": 13,
      "outputs": [
        {
          "output_type": "stream",
          "name": "stdout",
          "text": [
            "3\n"
          ]
        }
      ]
    },
    {
      "cell_type": "code",
      "source": [
        "#14. Write a code to find the index of the element \"cat\" in the tuple ('dog', 'cat', 'rabbit').\n",
        "animals = ('dog', 'cat', 'rabbit')\n",
        "print(animals.index(\"cat\"))\n"
      ],
      "metadata": {
        "colab": {
          "base_uri": "https://localhost:8080/"
        },
        "id": "kbNfZFXdVkea",
        "outputId": "74c2e518-218a-414c-e11d-54ef298e9778"
      },
      "execution_count": 14,
      "outputs": [
        {
          "output_type": "stream",
          "name": "stdout",
          "text": [
            "1\n"
          ]
        }
      ]
    },
    {
      "cell_type": "code",
      "source": [
        "#15. Write a code to check if the element \"banana\" is in the tuple ('apple', 'orange', 'banana').\n",
        "fruits = ('apple', 'orange', 'banana')\n",
        "print(\"banana\" in fruits)\n"
      ],
      "metadata": {
        "colab": {
          "base_uri": "https://localhost:8080/"
        },
        "id": "3b0GJ4hzVkbl",
        "outputId": "c968e06a-c9de-4c1a-954a-5014fd3e8544"
      },
      "execution_count": 15,
      "outputs": [
        {
          "output_type": "stream",
          "name": "stdout",
          "text": [
            "True\n"
          ]
        }
      ]
    },
    {
      "cell_type": "code",
      "source": [
        "#16.  Write a code to create a set with the elements 1, 2, 3, 4, 5 and print it.\n",
        "my_set = {1, 2, 3, 4, 5}\n",
        "print(my_set)\n"
      ],
      "metadata": {
        "colab": {
          "base_uri": "https://localhost:8080/"
        },
        "id": "KEUuWA-KVkY5",
        "outputId": "56644b97-770c-4655-f013-c1ce4ec3679e"
      },
      "execution_count": 16,
      "outputs": [
        {
          "output_type": "stream",
          "name": "stdout",
          "text": [
            "{1, 2, 3, 4, 5}\n"
          ]
        }
      ]
    },
    {
      "cell_type": "code",
      "source": [
        "#17. Write a code to add the element 6 to the set {1, 2, 3, 4}.\n",
        "my_set = {1, 2, 3, 4}\n",
        "my_set.add(6)\n",
        "print(my_set)\n"
      ],
      "metadata": {
        "colab": {
          "base_uri": "https://localhost:8080/"
        },
        "id": "Upwgc8SaVkVu",
        "outputId": "98bc44f3-3fc3-437c-f418-1e5b8bfcb149"
      },
      "execution_count": 17,
      "outputs": [
        {
          "output_type": "stream",
          "name": "stdout",
          "text": [
            "{1, 2, 3, 4, 6}\n"
          ]
        }
      ]
    },
    {
      "cell_type": "code",
      "source": [],
      "metadata": {
        "id": "7q40zDpUVkRX"
      },
      "execution_count": null,
      "outputs": []
    },
    {
      "cell_type": "code",
      "source": [],
      "metadata": {
        "id": "84X_hkOrVjt_"
      },
      "execution_count": null,
      "outputs": []
    }
  ]
}